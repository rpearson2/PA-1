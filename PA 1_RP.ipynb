{
 "cells": [
  {
   "cell_type": "markdown",
   "id": "a9b3ce1c",
   "metadata": {},
   "source": [
    "* Robert Pearson\n",
    "* Assignment 1\n",
    "* Version 1\n",
    "* Fall 2023"
   ]
  },
  {
   "cell_type": "markdown",
   "id": "1c93b48b",
   "metadata": {},
   "source": [
    "# Robert Pearson\n",
    "### I am 18 years old and I am freshman at Bellarmine. I am from Louisville, KY. I am interested in coding because of all the things you can create with it and you are always learning new things.\n",
    "* Programming  Assignments\n",
    "* Quizzes\n",
    "* Attendance/In-class completed notebook submission\n",
    "* Mid-Term Exam (2)\n",
    "* Project (2)\n",
    "\n",
    "1. Variables and Simple Data Types\n",
    "2. Introducing Lists, Tuples\n",
    "3. if Statements\n",
    "4. Dictionaries\n",
    "5. Loops\n",
    "6. String Class\n",
    "7. Functions\n",
    "8. Classes\n",
    "9. Numpy\n",
    "\n",
    "**Python**\n",
    "\n",
    "*Jupyter Notebook from Anaconda*\n",
    "\n",
    "` Coding is Cool!`\n",
    "\n",
    "<a href=\"https://github.com/rpearson2\"> My GitHub Account </a>\n",
    "\n",
    "![Bellarmine Logo](https://www.bellarmine.edu/sf-images/default-source/marketing/university-seal.png?sfvrsn=b6046380_0)\n",
    "\n",
    "> I learned a lot about how to use Markdown in python. I learned how to insert links and create a hyper link which was very cool to do. Another really cool thing I learned was how to add any kind of image to my Jupyter Notebook. I hope this will be something that I continue to use throughout my time in this class and beyond. "
   ]
  },
  {
   "cell_type": "code",
   "execution_count": null,
   "id": "17f3f711",
   "metadata": {},
   "outputs": [],
   "source": []
  }
 ],
 "metadata": {
  "kernelspec": {
   "display_name": "Python 3 (ipykernel)",
   "language": "python",
   "name": "python3"
  },
  "language_info": {
   "codemirror_mode": {
    "name": "ipython",
    "version": 3
   },
   "file_extension": ".py",
   "mimetype": "text/x-python",
   "name": "python",
   "nbconvert_exporter": "python",
   "pygments_lexer": "ipython3",
   "version": "3.11.4"
  }
 },
 "nbformat": 4,
 "nbformat_minor": 5
}
